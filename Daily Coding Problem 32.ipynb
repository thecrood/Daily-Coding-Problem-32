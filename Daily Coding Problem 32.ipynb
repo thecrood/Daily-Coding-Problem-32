{
 "cells": [
  {
   "cell_type": "markdown",
   "id": "eda54f1f",
   "metadata": {},
   "source": [
    "# Daily Coding Problem 32"
   ]
  },
  {
   "cell_type": "raw",
   "id": "4b768c57",
   "metadata": {},
   "source": [
    "This problem was asked by Jane Street.\n",
    "\n",
    "Suppose you are given a table of currency exchange rates, represented as a 2D array. Determine whether there is a possible arbitrage: that is, whether there is some sequence of trades you can make, starting with some amount A of any currency, so that you can end up with some amount greater than A of that currency.\n",
    "\n",
    "There are no transaction costs and you can trade fractional quantities."
   ]
  },
  {
   "cell_type": "markdown",
   "id": "2703e723",
   "metadata": {},
   "source": [
    "# Solution\n",
    "\n",
    "In this question, we can model the currencies and the exchange rates as a graph, where the nodes are the currencies and the edges are the exchange rates between each commodity. Since our table is complete, the graph is also complete. Then, to solve this problem, we need to find a cycle whose edge weights product is greater than 1.\n",
    "\n",
    "This seems hard to do faster than brute force, so let's try to reduce it down to a problem we already know we can solve faster than brute force. Hint: log(a * b) = log(a) + log(b). So if we take the negative log of the edge weights, the problem of finding a cumulative product that's greater than 1 turns into the problem of finding a negative sum cycle.\n",
    "\n",
    "The Bellman-Ford algorithm can detect negative cycles. So if we run Bellman-Ford on our graph and discover one, then that means its corresponding edge weights multiply out to more than 1, and thus we can perform an arbitrage.\n",
    "\n",
    "As a refresher, the Bellman-Ford algorithm is commonly used to find the shortest path between a source vertex and each of the other vertices. If the graph contains a negative cycle, however, it can detect it and throw an exception (or, in our case, return true). The main idea of Bellman-Ford is this:\n",
    "\n",
    "Since the longest path in any graph has at most |V| - 1 edges, if we take all the direct edges from our source node, then we have all the one-edged shortest paths; once we take edges from there, we have all the two-edged shortest paths; all the way until |V| - 1 sized paths.\n",
    "\n",
    "If, after |V| - 1 iterations of this, we can still find a smaller path, then there must be a negative cycle in the graph."
   ]
  },
  {
   "cell_type": "code",
   "execution_count": 2,
   "id": "c2b12392",
   "metadata": {},
   "outputs": [],
   "source": [
    "from math import log\n",
    "\n",
    "def arbitrage(table):\n",
    "    transformed_graph = [[-log(edge) for edge in row] for row in graph]\n",
    "\n",
    "    # Pick any source vertex -- we can run Bellman-Ford from any vertex and\n",
    "    # get the right result\n",
    "    source = 0\n",
    "    n = len(transformed_graph)\n",
    "    min_dist = [float('inf')] * n\n",
    "\n",
    "    min_dist[source] = 0\n",
    "\n",
    "    # Relax edges |V - 1| times\n",
    "    for i in range(n - 1):\n",
    "        for v in range(n):\n",
    "            for w in range(n):\n",
    "                if min_dist[w] > min_dist[v] + transformed_graph[v][w]:\n",
    "                    min_dist[w] = min_dist[v] + transformed_graph[v][w]\n",
    "\n",
    "    # If we can still relax edges, then we have a negative cycle\n",
    "    for v in range(n):\n",
    "        for w in range(n):\n",
    "            if min_dist[w] > min_dist[v] + transformed_graph[v][w]:\n",
    "                return True\n",
    "\n",
    "    return False"
   ]
  },
  {
   "cell_type": "markdown",
   "id": "767cb707",
   "metadata": {},
   "source": [
    "Because of the triply-nested foor loop, this runs in O(N^3) time."
   ]
  },
  {
   "cell_type": "code",
   "execution_count": null,
   "id": "55f54a5b",
   "metadata": {},
   "outputs": [],
   "source": []
  }
 ],
 "metadata": {
  "kernelspec": {
   "display_name": "Python 3 (ipykernel)",
   "language": "python",
   "name": "python3"
  },
  "language_info": {
   "codemirror_mode": {
    "name": "ipython",
    "version": 3
   },
   "file_extension": ".py",
   "mimetype": "text/x-python",
   "name": "python",
   "nbconvert_exporter": "python",
   "pygments_lexer": "ipython3",
   "version": "3.8.10"
  }
 },
 "nbformat": 4,
 "nbformat_minor": 5
}
